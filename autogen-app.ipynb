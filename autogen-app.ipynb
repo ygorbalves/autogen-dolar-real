{
 "cells": [
  {
   "cell_type": "code",
   "execution_count": 41,
   "metadata": {},
   "outputs": [],
   "source": [
    "import autogen\n",
    "config_list = [{'model': 'gpt-4', 'api_key': \"sk-...\"},{'model': 'gpt-3.5-turbo', 'api_key': \"sk-...\"},{'model': 'gpt-3.5-turbo-16k', 'api_key': \"sk-..\"}]"
   ]
  },
  {
   "cell_type": "code",
   "execution_count": 42,
   "metadata": {},
   "outputs": [],
   "source": [
    "llm_config = {\n",
    "    \"seed\": 65,  # change the seed for different trials\n",
    "    \"temperature\": 0,\n",
    "    \"config_list\": config_list,\n",
    "    \"request_timeout\": 120,\n",
    "}\n",
    "user_proxy = autogen.UserProxyAgent(\n",
    "   name=\"user_proxy\",\n",
    "   max_consecutive_auto_reply=10,\n",
    "   is_termination_msg=lambda x: x.get(\"content\", \"\").rstrip().endswith(\"TERMINATE\"),\n",
    "   code_execution_config={\"work_dir\": \"groupchat\",\"use_docker\": False},\n",
    "   llm_config=llm_config,\n",
    "   human_input_mode=\"TERMINATE\",\n",
    "   system_message=\"\"\"Reply TERMINATE if the task has been solved at full satisfaction.\n",
    "Otherwise, reply CONTINUE, or the reason why the task is not solved yet.\"\"\"\n",
    ")\n",
    "coder = autogen.AssistantAgent(\n",
    "    name=\"Coder\",\n",
    "    system_message=\"You follow an approved plan. You write python/shell code to solve tasks. Wrap the code in a code block that specifies the script type. The user can't modify your code. So do not suggest incomplete code which requires others to modify. Don't use a code block if it's not intended to be executed by the executor. Don't include multiple code blocks in one response. Do not ask others to copy and paste the result. Check the execution result returned by the executor. If the result indicates there is an error, fix the error and output the code again. Suggest the full code instead of partial code or code changes. If the error can't be fixed or if the task is not solved even after the code is executed successfully, analyze the problem, revisit your assumption, collect additional info you need, and think of a different approach to try.\",\n",
    "    llm_config=llm_config,\n",
    ")\n",
    "data_analyst = autogen.AssistantAgent(\n",
    "    name=\"data_analyst\",\n",
    "    system_message=\"Expert in plot professional graphs using matplotlib python framework.\",\n",
    "    llm_config=llm_config,\n",
    ")\n",
    "web_developer = autogen.AssistantAgent(\n",
    "    name=\"web_developer\",\n",
    "    system_message=\"Expert in build professional web apps using streamlit python framework. Always save the webapp file in the groupchat folder.\",\n",
    "    llm_config=llm_config,\n",
    ")\n",
    "planner = autogen.AssistantAgent(\n",
    "    name=\"Planner\",\n",
    "    system_message='''Planner. Suggest a plan. Revise the plan based on feedback from admin, until admin approval.\n",
    "The plan may involve a coder who can write code to solve tasks, a data analyst that present the results in a professional and visual way, and the web_developer that build professional web apps.\n",
    "Explain the plan first. Be clear which step is performed by a coder,which step is performed by a data_analyst and which step is performed by the web_developer.\n",
    "''',\n",
    "    llm_config=llm_config,\n",
    ")\n",
    "executor = autogen.UserProxyAgent(\n",
    "   name=\"executor\",\n",
    "   system_message=\"Save and Execute code produced by the coder in the groupchat folder.\",\n",
    "   code_execution_config={\"last_n_messages\": 2, \"work_dir\": \"groupchat\",\"use_docker\": False},\n",
    "   human_input_mode=\"NEVER\"\n",
    ")\n",
    "groupchat = autogen.GroupChat(agents=[user_proxy,coder, data_analyst,web_developer, planner], messages=[], max_round=12)\n",
    "manager = autogen.GroupChatManager(groupchat=groupchat, llm_config=llm_config)"
   ]
  },
  {
   "cell_type": "code",
   "execution_count": null,
   "metadata": {},
   "outputs": [],
   "source": [
    "user_proxy.initiate_chat(manager, message=\"I want a web app that give me the dollar/real rate of the last month using yfinance and plot a graph with this result.\")"
   ]
  }
 ],
 "metadata": {
  "kernelspec": {
   "display_name": "autogen",
   "language": "python",
   "name": "python3"
  },
  "language_info": {
   "codemirror_mode": {
    "name": "ipython",
    "version": 3
   },
   "file_extension": ".py",
   "mimetype": "text/x-python",
   "name": "python",
   "nbconvert_exporter": "python",
   "pygments_lexer": "ipython3",
   "version": "3.11.0"
  }
 },
 "nbformat": 4,
 "nbformat_minor": 2
}
